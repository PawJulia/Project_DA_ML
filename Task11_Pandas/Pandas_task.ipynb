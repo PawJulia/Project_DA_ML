{
 "cells": [
  {
   "cell_type": "code",
   "execution_count": 150,
   "id": "0ca74c77",
   "metadata": {},
   "outputs": [],
   "source": [
    "import os\n",
    "import numpy as np\n",
    "import pandas as pd\n",
    "import matplotlib.pyplot as plt"
   ]
  },
  {
   "cell_type": "markdown",
   "id": "e0045788",
   "metadata": {},
   "source": [
    "Функции"
   ]
  },
  {
   "cell_type": "code",
   "execution_count": 151,
   "id": "1e4df128",
   "metadata": {},
   "outputs": [],
   "source": [
    "# Formatting column names\n",
    "def format_column_name(column, function):\n",
    "    original_col = dataFr.columns\n",
    "    formated_column_name = {}\n",
    "    for orig_column in original_col:\n",
    "        formated_column_name[orig_column] = function(orig_column)\n",
    "    data_format_column_name = dataFr.rename(columns=formated_column_name)\n",
    "    return data_format_column_name\n",
    "\n",
    "\n",
    "def process_data(data, function):\n",
    "    categorials = {}\n",
    "    for col in data.columns:\n",
    "        data_column = data.loc[: , col]\n",
    "        processed_data_col = []\n",
    "        for act in function:\n",
    "            processed_data_col.append(act[0])\n",
    "            processed_data_col.append(act[1](data_column))\n",
    "        categorials[col] = processed_data_col\n",
    "    return(categorials)\n",
    "\n",
    "def print_process_data(data_categorials):\n",
    "    for categorials in data_categorials:\n",
    "        print(categorials)\n",
    "        print()\n",
    "        for data in data_categorials[categorials]:\n",
    "            print(data)\n",
    "        print('------------------')\n",
    "        \n",
    "\n",
    "def depend_survived_param(ind, func_print):\n",
    "    surv_by_param = data_format_column_name.pivot_table(values='survived', index=ind, aggfunc=surf_aggfuncs)\n",
    "    not_surv_by_param = data_format_column_name.pivot_table(values='survived', index=ind, aggfunc=not_surf_aggfuncs)\n",
    "    if func_print == True:\n",
    "        print(surv_by_param)\n",
    "        print(not_surv_by_param)\n",
    "        print('----------------')\n",
    "    else:\n",
    "        return (surv_by_param, not_surv_by_param)\n",
    "    \n",
    "    \n",
    "def data_depend_param(parameter):\n",
    "    depend_param = depend_survived_param(parameter, False)\n",
    "\n",
    "    list_param = depend_param[0].index.to_list()\n",
    "    surv_list = depend_param[0]['<lambda_0>'].to_list()\n",
    "    not_surv_list = depend_param[1]['<lambda_0>'].to_list()\n",
    "    \n",
    "    result = {}\n",
    "    for i in range(0, len(list_param)):\n",
    "        result[str(list_param[i])] = [round(depend_param[1]['<lambda_0>'].to_list()[i] * 100, 1), \n",
    "                                round(depend_param[0]['<lambda_0>'].to_list()[i] * 100, 1)]\n",
    "    return result\n",
    "\n",
    "\n",
    "\n",
    "def creating_data_graphs(name, ax, results):\n",
    "    \n",
    "    category_names = ['Погибшие', 'Выжившие']\n",
    "    labels = list(results.keys())\n",
    "    data = np.array(list(results.values()))\n",
    "    data_cum = data.cumsum(axis=1)\n",
    "    category_colors = plt.colormaps['RdYlGn'](\n",
    "        np.linspace(0.15, 0.85, data.shape[1]))\n",
    "\n",
    "    ax.invert_yaxis()\n",
    "    ax.xaxis.set_visible(False)\n",
    "    ax.set_xlim(0, np.sum(data, axis=1).max())\n",
    "\n",
    "    for i, (colname, color) in enumerate(zip(category_names, category_colors)):\n",
    "        widths = data[:, i]\n",
    "        starts = data_cum[:, i] - widths\n",
    "        rects = ax.barh(labels, widths, left=starts, height=0.5,\n",
    "                        label=colname, color=color)\n",
    "\n",
    "        text_color = 'white' \n",
    "        ax.bar_label(rects, label_type='center', color=text_color)\n",
    "    ax.legend(ncols=len(category_names), bbox_to_anchor=(0.6, 0.8),\n",
    "              loc='lower left', fontsize='small')\n",
    "    ax.set_title(name)\n",
    "\n",
    "    return a"
   ]
  },
  {
   "cell_type": "markdown",
   "id": "d315a9c6",
   "metadata": {},
   "source": [
    "1. Считывание файла из 'titanic.csv'"
   ]
  },
  {
   "cell_type": "code",
   "execution_count": 152,
   "id": "e1574383",
   "metadata": {},
   "outputs": [
    {
     "name": "stdout",
     "output_type": "stream",
     "text": [
      "   PassengerId  Survived  Pclass  \\\n",
      "0            1         0       3   \n",
      "1            2         1       1   \n",
      "2            3         1       3   \n",
      "3            4         1       1   \n",
      "4            5         0       3   \n",
      "\n",
      "                                      Name Passenger Gender Passenger   Age  \\\n",
      "0                            Braund, Mr. Owen Harris             male  22.0   \n",
      "1  Cumings, Mrs. John Bradley (Florence Briggs Th...           female  38.0   \n",
      "2                             Heikkinen, Miss. Laina           female  26.0   \n",
      "3       Futrelle, Mrs. Jacques Heath (Lily May Peel)           female  35.0   \n",
      "4                           Allen, Mr. William Henry             male  35.0   \n",
      "\n",
      "   SibSp  Parch            Ticket     Fare Cabin Embarked  \n",
      "0      1      0         A/5 21171   7.2500   NaN        S  \n",
      "1      1      0          PC 17599  71.2833   C85        C  \n",
      "2      0      0  STON/O2. 3101282   7.9250   NaN        S  \n",
      "3      1      0            113803  53.1000  C123        S  \n",
      "4      0      0            373450   8.0500   NaN        S  \n"
     ]
    }
   ],
   "source": [
    "dataFr = pd.read_csv('titanic.csv')\n",
    "print(dataFr[0:5])"
   ]
  },
  {
   "cell_type": "markdown",
   "id": "26a27b6c",
   "metadata": {},
   "source": [
    "a) Сколько столбцов и сколько строк в сохраненном DataFrame\n",
    "b) Какой объем памяти занимает DataFrame\n",
    "c) Сколько столбцов разных типов"
   ]
  },
  {
   "cell_type": "code",
   "execution_count": 153,
   "id": "60c92306",
   "metadata": {},
   "outputs": [
    {
     "name": "stdout",
     "output_type": "stream",
     "text": [
      "В таблице 891 строк и 12 столбцов.\n"
     ]
    }
   ],
   "source": [
    "# a)\n",
    "print(\"В таблице {0} строк и {1} столбцов.\".format(len(dataFr), len(dataFr.columns)))"
   ]
  },
  {
   "cell_type": "code",
   "execution_count": 154,
   "id": "ab87902b",
   "metadata": {},
   "outputs": [
    {
     "name": "stdout",
     "output_type": "stream",
     "text": [
      "DataFrame занимает объем памяти 85.7 КБ.\n"
     ]
    }
   ],
   "source": [
    "#  б)\n",
    "memory = dataFr.memory_usage().sum()\n",
    "print(\"DataFrame занимает объем памяти {0} КБ.\".format(round(memory/1000,1)))"
   ]
  },
  {
   "cell_type": "code",
   "execution_count": 155,
   "id": "f8626508",
   "metadata": {},
   "outputs": [
    {
     "name": "stdout",
     "output_type": "stream",
     "text": [
      "В таблице 3 столбца с разными типами: \n",
      "int64      5\n",
      "object     5\n",
      "float64    2\n",
      "Name: count, dtype: int64.\n"
     ]
    }
   ],
   "source": [
    "# в)\n",
    "counts_dtype = dataFr.dtypes.value_counts()\n",
    "print(\"В таблице {0} столбца с разными типами: \\n{1}.\".format(len(counts_dtype), counts_dtype))"
   ]
  },
  {
   "cell_type": "markdown",
   "id": "2c067a92",
   "metadata": {},
   "source": [
    "2) Привести названия всех столбцов к виду: все названия строчные английские буквы без пробелов"
   ]
  },
  {
   "cell_type": "code",
   "execution_count": 156,
   "id": "54ea0a3f",
   "metadata": {},
   "outputs": [
    {
     "name": "stdout",
     "output_type": "stream",
     "text": [
      "   passengerid  survived  pclass  \\\n",
      "0            1         0       3   \n",
      "1            2         1       1   \n",
      "2            3         1       3   \n",
      "3            4         1       1   \n",
      "4            5         0       3   \n",
      "\n",
      "                                      name_passenger gender_passenger   age  \\\n",
      "0                            Braund, Mr. Owen Harris             male  22.0   \n",
      "1  Cumings, Mrs. John Bradley (Florence Briggs Th...           female  38.0   \n",
      "2                             Heikkinen, Miss. Laina           female  26.0   \n",
      "3       Futrelle, Mrs. Jacques Heath (Lily May Peel)           female  35.0   \n",
      "4                           Allen, Mr. William Henry             male  35.0   \n",
      "\n",
      "   sibsp  parch            ticket     fare cabin embarked  \n",
      "0      1      0         A/5 21171   7.2500   NaN        S  \n",
      "1      1      0          PC 17599  71.2833   C85        C  \n",
      "2      0      0  STON/O2. 3101282   7.9250   NaN        S  \n",
      "3      1      0            113803  53.1000  C123        S  \n",
      "4      0      0            373450   8.0500   NaN        S  \n"
     ]
    }
   ],
   "source": [
    "format_column = lambda name: name.strip().lower().replace(' ', '_')\n",
    "data_format_column_name = format_column_name(dataFr, format_column)\n",
    "print(data_format_column_name[0:5])"
   ]
  },
  {
   "cell_type": "markdown",
   "id": "89d50366",
   "metadata": {},
   "source": [
    "3. Вывести статистику по каждому столбцу:\n",
    "\n",
    "a) для категориальных переменных: количество уникальных значений,\n",
    "моду, количество пропущенных значений\n",
    "b) Для интервальных: медиану, среднее, квантиль 90, квантиль 10,\n",
    "максимальное значение, минимальное значение, количество\n",
    "пропущенных значений"
   ]
  },
  {
   "cell_type": "code",
   "execution_count": 157,
   "id": "b871b789",
   "metadata": {},
   "outputs": [
    {
     "name": "stdout",
     "output_type": "stream",
     "text": [
      "survived\n",
      "\n",
      "Value\n",
      "survived\n",
      "0    549\n",
      "1    342\n",
      "Name: count, dtype: int64\n",
      "Mode\n",
      "0    0\n",
      "Name: survived, dtype: int64\n",
      "Null\n",
      "0\n",
      "------------------\n",
      "pclass\n",
      "\n",
      "Value\n",
      "pclass\n",
      "3    491\n",
      "1    216\n",
      "2    184\n",
      "Name: count, dtype: int64\n",
      "Mode\n",
      "0    3\n",
      "Name: pclass, dtype: int64\n",
      "Null\n",
      "0\n",
      "------------------\n",
      "gender_passenger\n",
      "\n",
      "Value\n",
      "gender_passenger\n",
      "male      577\n",
      "female    314\n",
      "Name: count, dtype: int64\n",
      "Mode\n",
      "0    male\n",
      "Name: gender_passenger, dtype: object\n",
      "Null\n",
      "0\n",
      "------------------\n",
      "embarked\n",
      "\n",
      "Value\n",
      "embarked\n",
      "S    644\n",
      "C    168\n",
      "Q     77\n",
      "Name: count, dtype: int64\n",
      "Mode\n",
      "0    S\n",
      "Name: embarked, dtype: object\n",
      "Null\n",
      "2\n",
      "------------------\n"
     ]
    }
   ],
   "source": [
    "# a)\n",
    "\n",
    "categorial_names = ['survived', 'pclass', 'gender_passenger', 'embarked']\n",
    "categorial_data = data_format_column_name.loc[: , categorial_names]\n",
    "\n",
    "value_counts = lambda data: data.value_counts()\n",
    "mode = lambda data: data.mode()\n",
    "isnull = lambda data: data.isnull().sum()\n",
    "\n",
    "categorial_func = [['Value', value_counts], ['Mode', mode], ['Null', isnull]]\n",
    "\n",
    "categorial_data_process_value = process_data(categorial_data, categorial_func)\n",
    "\n",
    "print_process_data(categorial_data_process_value)"
   ]
  },
  {
   "cell_type": "code",
   "execution_count": 158,
   "id": "d56a8a8a",
   "metadata": {},
   "outputs": [
    {
     "name": "stdout",
     "output_type": "stream",
     "text": [
      "age\n",
      "\n",
      "Median\n",
      "28.0\n",
      "Mean\n",
      "29.7\n",
      "Quantile_10\n",
      "14.0\n",
      "Quantile_90\n",
      "50.0\n",
      "Min\n",
      "0.42\n",
      "Max\n",
      "80.0\n",
      "Null\n",
      "177\n",
      "------------------\n",
      "sibsp\n",
      "\n",
      "Median\n",
      "0.0\n",
      "Mean\n",
      "0.52\n",
      "Quantile_10\n",
      "0.0\n",
      "Quantile_90\n",
      "1.0\n",
      "Min\n",
      "0\n",
      "Max\n",
      "8\n",
      "Null\n",
      "0\n",
      "------------------\n",
      "parch\n",
      "\n",
      "Median\n",
      "0.0\n",
      "Mean\n",
      "0.38\n",
      "Quantile_10\n",
      "0.0\n",
      "Quantile_90\n",
      "2.0\n",
      "Min\n",
      "0\n",
      "Max\n",
      "6\n",
      "Null\n",
      "0\n",
      "------------------\n",
      "fare\n",
      "\n",
      "Median\n",
      "14.4542\n",
      "Mean\n",
      "32.2\n",
      "Quantile_10\n",
      "7.55\n",
      "Quantile_90\n",
      "77.9583\n",
      "Min\n",
      "0.0\n",
      "Max\n",
      "512.3292\n",
      "Null\n",
      "0\n",
      "------------------\n"
     ]
    }
   ],
   "source": [
    "# b\n",
    "\n",
    "interval_column = ['age', 'sibsp', 'parch', 'fare']\n",
    "interval_data = data_format_column_name.loc[: , interval_column]\n",
    "median = lambda data: data.median()\n",
    "mean = lambda data: round(data.mean(), 2)\n",
    "quantile_10 = lambda data: data.quantile(0.1)\n",
    "quantile_90 = lambda data: data.quantile(0.9)\n",
    "max_data = lambda data: data.max()\n",
    "min_data = lambda data: data.min()\n",
    "interval_func = [['Median', median], ['Mean', mean], ['Quantile_10', quantile_10], \n",
    "                           ['Quantile_90', quantile_90], ['Min', min_data],['Max', max_data], \n",
    "                           ['Null', isnull]]\n",
    "\n",
    "interval_data_process_value = process_data(interval_data, interval_func)\n",
    "\n",
    "print_process_data(interval_data_process_value)"
   ]
  },
  {
   "cell_type": "markdown",
   "id": "448c1448",
   "metadata": {},
   "source": [
    "4. Посчитать долю выживших пассажиров"
   ]
  },
  {
   "cell_type": "code",
   "execution_count": 159,
   "id": "694e25c5",
   "metadata": {},
   "outputs": [
    {
     "name": "stdout",
     "output_type": "stream",
     "text": [
      "Survival rate: 38.4 %.\n"
     ]
    }
   ],
   "source": [
    "survived_passenger = categorial_data_process_value['survived'][1][1]\n",
    "survived_rate = round(survived_passenger/len(dataFr) * 100, 1)\n",
    "\n",
    "print('Survival rate: {0} %.'.format(survived_rate))"
   ]
  },
  {
   "cell_type": "markdown",
   "id": "c6f4147a",
   "metadata": {},
   "source": [
    "5. Посчитать долю и количество выживших пассажиров в зависимости от\n",
    "следующих параметров:\n",
    "a) класса каюты (переменная Pclass)\n",
    "b) пол пассажира (переменная Gender Passenger)\n",
    "c) порт посадки Embarked\n",
    "d) Одновременно пол и класса каюты"
   ]
  },
  {
   "cell_type": "code",
   "execution_count": 160,
   "id": "466d72b5",
   "metadata": {},
   "outputs": [
    {
     "name": "stdout",
     "output_type": "stream",
     "text": [
      "        <lambda_0>  <lambda_1>\n",
      "pclass                        \n",
      "1         0.152637         136\n",
      "2         0.097643          87\n",
      "3         0.133558         119\n",
      "        <lambda_0>  <lambda_1>\n",
      "pclass                        \n",
      "1         0.089787          80\n",
      "2         0.108866          97\n",
      "3         0.417508         372\n",
      "----------------\n",
      "                  <lambda_0>  <lambda_1>\n",
      "gender_passenger                        \n",
      "female              0.261504         233\n",
      "male                0.122334         109\n",
      "                  <lambda_0>  <lambda_1>\n",
      "gender_passenger                        \n",
      "female              0.090909          81\n",
      "male                0.525253         468\n",
      "----------------\n",
      "          <lambda_0>  <lambda_1>\n",
      "embarked                        \n",
      "C           0.104377          93\n",
      "Q           0.033670          30\n",
      "S           0.243547         217\n",
      "          <lambda_0>  <lambda_1>\n",
      "embarked                        \n",
      "C           0.084175          75\n",
      "Q           0.052750          47\n",
      "S           0.479237         427\n",
      "----------------\n",
      "                         <lambda_0>  <lambda_1>\n",
      "gender_passenger pclass                        \n",
      "female           1         0.102132          91\n",
      "                 2         0.078563          70\n",
      "                 3         0.080808          72\n",
      "male             1         0.050505          45\n",
      "                 2         0.019080          17\n",
      "                 3         0.052750          47\n",
      "                         <lambda_0>  <lambda_1>\n",
      "gender_passenger pclass                        \n",
      "female           1         0.003367           3\n",
      "                 2         0.006734           6\n",
      "                 3         0.080808          72\n",
      "male             1         0.086420          77\n",
      "                 2         0.102132          91\n",
      "                 3         0.336700         300\n",
      "----------------\n"
     ]
    }
   ],
   "source": [
    "# 5 a) b) c) d)\n",
    "surf_aggfuncs = {'survived': [lambda a: np.sum(a==1)/len(dataFr), lambda a: np.sum(a==1)]}\n",
    "not_surf_aggfuncs = {'survived': [lambda a: np.sum(a==0)/len(dataFr), lambda a: np.sum(a==0)]}\n",
    "\n",
    "list_parameter = ['pclass', 'gender_passenger', 'embarked', ['gender_passenger', 'pclass']]\n",
    "\n",
    "for parameter in list_parameter:\n",
    "    depend_survived_param(parameter, True)\n"
   ]
  },
  {
   "cell_type": "markdown",
   "id": "cf018e20",
   "metadata": {},
   "source": [
    "6. Постройте информативные/полезные графики, по которым можно понять зависимость выживших в зависимости от пола, класса каюты, порта посадки"
   ]
  },
  {
   "cell_type": "code",
   "execution_count": 161,
   "id": "844bc6a2",
   "metadata": {},
   "outputs": [
    {
     "data": {
      "image/png": "[encoded data removed]",
      "text/plain": [
       "<Figure size 800x800 with 3 Axes>"
      ]
     },
     "metadata": {},
     "output_type": "display_data"
    }
   ],
   "source": [
    "lable_graphs = [['pclass','Зависимость выживших от класса каюты'],\n",
    "                ['gender_passenger','Зависимость выживших от пола'],\n",
    "                ['embarked','Зависимость выживших от города отправления'],\n",
    "                ]\n",
    "\n",
    "fig, ax = plt.subplots(nrows = len(lable_graphs), ncols = 1)\n",
    "fig.set_size_inches(8, 8)\n",
    "\n",
    "for i in range (0, len(lable_graphs)):\n",
    "    creating_data_graphs(lable_graphs[i][1], ax[i], data_depend_param(lable_graphs[i][0]))\n",
    "    \n",
    "plt.show()"
   ]
  }
 ],
 "metadata": {
  "kernelspec": {
   "display_name": "Python 3 (ipykernel)",
   "language": "python",
   "name": "python3"
  },
  "language_info": {
   "codemirror_mode": {
    "name": "ipython",
    "version": 3
   },
   "file_extension": ".py",
   "mimetype": "text/x-python",
   "name": "python",
   "nbconvert_exporter": "python",
   "pygments_lexer": "ipython3",
   "version": "3.10.10"
  }
 },
 "nbformat": 4,
 "nbformat_minor": 5
}
