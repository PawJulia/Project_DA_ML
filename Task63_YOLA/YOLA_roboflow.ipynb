{
 "cells": [
  {
   "cell_type": "markdown",
   "metadata": {
    "id": "0fgrUudzZlGo"
   },
   "source": [
    "https://github.com/ultralytics/yolov5\n",
    "\n",
    "Импортируем репозиторий"
   ]
  },
  {
   "cell_type": "code",
   "execution_count": 1,
   "metadata": {
    "colab": {
     "base_uri": "https://localhost:8080/"
    },
    "id": "DhlDc6RqLGdg",
    "outputId": "8ab89351-e50c-43cb-8bd4-2d4e8e825227"
   },
   "outputs": [
    {
     "name": "stdout",
     "output_type": "stream",
     "text": [
      "fatal: destination path 'yolov5' already exists and is not an empty directory.\r\n"
     ]
    }
   ],
   "source": [
    "!git clone https://github.com/ultralytics/yolov5"
   ]
  },
  {
   "cell_type": "markdown",
   "metadata": {
    "id": "qmaertGxZnWw"
   },
   "source": [
    "Перейдем в репозиторий"
   ]
  },
  {
   "cell_type": "code",
   "execution_count": 2,
   "metadata": {
    "colab": {
     "base_uri": "https://localhost:8080/"
    },
    "id": "IRgSO5lUN7Sf",
    "outputId": "497fd7a0-7048-4b31-94b1-5c30bff773d4"
   },
   "outputs": [
    {
     "name": "stdout",
     "output_type": "stream",
     "text": [
      "/Users/pavelevayun/PycharmProjects/Project_DA_ML/Task63_YOLA/yolov5\n"
     ]
    }
   ],
   "source": [
    "%cd yolov5"
   ]
  },
  {
   "cell_type": "code",
   "execution_count": 3,
   "metadata": {},
   "outputs": [
    {
     "name": "stdout",
     "output_type": "stream",
     "text": [
      "HEAD is now at fbe67e4 Fix `OMP_NUM_THREADS=1` for macOS (#8624)\r\n"
     ]
    }
   ],
   "source": [
    "!git reset --hard fbe67e465375231474a2ad80a4389efc77ecff99"
   ]
  },
  {
   "cell_type": "markdown",
   "metadata": {
    "id": "m13BlNaDZpHJ"
   },
   "source": [
    "Установим зависимости"
   ]
  },
  {
   "cell_type": "code",
   "execution_count": 4,
   "metadata": {
    "colab": {
     "base_uri": "https://localhost:8080/"
    },
    "id": "tmezLYI6Ngaf",
    "outputId": "db5b04c5-9c3b-4d72-cf7c-b6a5f314aa6f"
   },
   "outputs": [
    {
     "name": "stdout",
     "output_type": "stream",
     "text": [
      "\u001b[33mWARNING: There was an error checking the latest version of pip.\u001b[0m\u001b[33m\n",
      "\u001b[0mSetup complete. Using torch 2.1.0 CPU\n"
     ]
    }
   ],
   "source": [
    "!pip install -qr requirements.txt  # install dependencies (ignore errors)\n",
    "import torch\n",
    "\n",
    "from IPython.display import Image, clear_output  # to display images\n",
    "from utils.downloads import attempt_download  # to download models/datasets\n",
    "\n",
    "# clear_output()\n",
    "print('Setup complete. Using torch %s %s' % (torch.__version__, torch.cuda.get_device_properties(0) if torch.cuda.is_available() else 'CPU'))"
   ]
  },
  {
   "cell_type": "markdown",
   "metadata": {
    "id": "XO93BeQxZrNZ"
   },
   "source": [
    "Создадим папку для данных"
   ]
  },
  {
   "cell_type": "code",
   "execution_count": 1,
   "metadata": {},
   "outputs": [
    {
     "name": "stdout",
     "output_type": "stream",
     "text": [
      "/Users/pavelevayun/PycharmProjects/Project_DA_ML\n"
     ]
    }
   ],
   "source": [
    "%cd .."
   ]
  },
  {
   "cell_type": "code",
   "execution_count": 6,
   "metadata": {
    "id": "QDRMs2TMOFt9"
   },
   "outputs": [
    {
     "name": "stdout",
     "output_type": "stream",
     "text": [
      "mkdir: cat_open_image: File exists\r\n"
     ]
    }
   ],
   "source": [
    "!mkdir cat_open_image"
   ]
  },
  {
   "cell_type": "markdown",
   "metadata": {
    "id": "JE4qJCKCZtAC"
   },
   "source": [
    "Перейдем в папку данных"
   ]
  },
  {
   "cell_type": "code",
   "execution_count": 7,
   "metadata": {
    "colab": {
     "base_uri": "https://localhost:8080/"
    },
    "id": "eP0wxhTsOJ8H",
    "outputId": "7d746529-7be3-412b-b5e8-b1473abddca9"
   },
   "outputs": [
    {
     "name": "stdout",
     "output_type": "stream",
     "text": [
      "/Users/pavelevayun/PycharmProjects/Project_DA_ML/Task63_YOLA/cat_open_image\n"
     ]
    }
   ],
   "source": [
    "%cd cat_open_image"
   ]
  },
  {
   "cell_type": "markdown",
   "metadata": {
    "id": "YJReGqx6Zu1n"
   },
   "source": [
    "Скачаем архив данных"
   ]
  },
  {
   "cell_type": "markdown",
   "metadata": {},
   "source": [
    "The Oxford-IIIT Pet Dataset is a 37 category pet dataset with roughly 200 images for each class created by the Visual Geometry Group at Oxford. The images have a large variations in scale, pose and lighting. All images have an associated ground truth annotation of breed, head ROI, and pixel level trimap segmentation."
   ]
  },
  {
   "cell_type": "code",
   "execution_count": 8,
   "metadata": {
    "colab": {
     "base_uri": "https://localhost:8080/"
    },
    "id": "mAXcnFROOMEv",
    "outputId": "bed36b62-2483-428f-fa37-1596eca9cf28"
   },
   "outputs": [
    {
     "name": "stdout",
     "output_type": "stream",
     "text": [
      "  % Total    % Received % Xferd  Average Speed   Time    Time     Time  Current\n",
      "                                 Dload  Upload   Total   Spent    Left  Speed\n",
      "100   901  100   901    0     0   1071      0 --:--:-- --:--:-- --:--:--  1076\n",
      "100  109M  100  109M    0     0  8791k      0  0:00:12  0:00:12 --:--:-- 9762k\n"
     ]
    }
   ],
   "source": [
    "!curl -L \"https://public.roboflow.com/ds/Sg9zMl9R1N?key=rOEZw1H9V7\" > pets.zip"
   ]
  },
  {
   "cell_type": "markdown",
   "metadata": {
    "id": "PInyBoewZxd4"
   },
   "source": [
    "Распакуем архив"
   ]
  },
  {
   "cell_type": "code",
   "execution_count": null,
   "metadata": {
    "colab": {
     "base_uri": "https://localhost:8080/"
    },
    "id": "TZDPKItbONuY",
    "outputId": "8cea2dc8-c8e9-4deb-ae0b-f6dd53c3f397"
   },
   "outputs": [],
   "source": [
    "!unzip pets.zip"
   ]
  },
  {
   "cell_type": "markdown",
   "metadata": {
    "id": "3Zqg-fjwZzz3"
   },
   "source": [
    "Удалим архив"
   ]
  },
  {
   "cell_type": "code",
   "execution_count": 10,
   "metadata": {
    "id": "h0CLXX8ZOPWm"
   },
   "outputs": [],
   "source": [
    "!rm pets.zip"
   ]
  },
  {
   "cell_type": "code",
   "execution_count": 11,
   "metadata": {},
   "outputs": [
    {
     "name": "stdout",
     "output_type": "stream",
     "text": [
      "train: ../cat_open_image/train/images\r\n",
      "val: ../cat_open_image/valid/images\r\n",
      "\r\n",
      "nc: 2\r\n",
      "names: ['cat', 'dog']"
     ]
    }
   ],
   "source": [
    "%cat data.yaml"
   ]
  },
  {
   "cell_type": "markdown",
   "metadata": {
    "id": "A4VatrtAZ1Xe"
   },
   "source": [
    "Пути к данным для yaml конфигурации"
   ]
  },
  {
   "cell_type": "code",
   "execution_count": 12,
   "metadata": {},
   "outputs": [],
   "source": [
    "import yaml\n",
    "with open(\"data.yaml\", 'r') as stream:\n",
    "    num_classes = str(yaml.safe_load(stream)['nc'])"
   ]
  },
  {
   "cell_type": "code",
   "execution_count": 13,
   "metadata": {},
   "outputs": [
    {
     "data": {
      "text/plain": [
       "'2'"
      ]
     },
     "execution_count": 13,
     "metadata": {},
     "output_type": "execute_result"
    }
   ],
   "source": [
    "num_classes"
   ]
  },
  {
   "cell_type": "code",
   "execution_count": 7,
   "metadata": {},
   "outputs": [
    {
     "name": "stdout",
     "output_type": "stream",
     "text": [
      "/Users/pavelevayun/PycharmProjects/Project_DA_ML/Task63_YOLA\n",
      "/Users/pavelevayun/PycharmProjects/Project_DA_ML/Task63_YOLA/yolov5\n",
      "# YOLOv5 🚀 by Ultralytics, GPL-3.0 license\r\n",
      "\r\n",
      "# Parameters\r\n",
      "nc: 80  # number of classes\r\n",
      "depth_multiple: 0.33  # model depth multiple\r\n",
      "width_multiple: 0.50  # layer channel multiple\r\n",
      "anchors:\r\n",
      "  - [10,13, 16,30, 33,23]  # P3/8\r\n",
      "  - [30,61, 62,45, 59,119]  # P4/16\r\n",
      "  - [116,90, 156,198, 373,326]  # P5/32\r\n",
      "\r\n",
      "# YOLOv5 v6.0 backbone\r\n",
      "backbone:\r\n",
      "  # [from, number, module, args]\r\n",
      "  [[-1, 1, Conv, [64, 6, 2, 2]],  # 0-P1/2\r\n",
      "   [-1, 1, Conv, [128, 3, 2]],  # 1-P2/4\r\n",
      "   [-1, 3, C3, [128]],\r\n",
      "   [-1, 1, Conv, [256, 3, 2]],  # 3-P3/8\r\n",
      "   [-1, 6, C3, [256]],\r\n",
      "   [-1, 1, Conv, [512, 3, 2]],  # 5-P4/16\r\n",
      "   [-1, 9, C3, [512]],\r\n",
      "   [-1, 1, Conv, [1024, 3, 2]],  # 7-P5/32\r\n",
      "   [-1, 3, C3, [1024]],\r\n",
      "   [-1, 1, SPPF, [1024, 5]],  # 9\r\n",
      "  ]\r\n",
      "\r\n",
      "# YOLOv5 v6.0 head\r\n",
      "head:\r\n",
      "  [[-1, 1, Conv, [512, 1, 1]],\r\n",
      "   [-1, 1, nn.Upsample, [None, 2, 'nearest']],\r\n",
      "   [[-1, 6], 1, Concat, [1]],  # cat backbone P4\r\n",
      "   [-1, 3, C3, [512, False]],  # 13\r\n",
      "\r\n",
      "   [-1, 1, Conv, [256, 1, 1]],\r\n",
      "   [-1, 1, nn.Upsample, [None, 2, 'nearest']],\r\n",
      "   [[-1, 4], 1, Concat, [1]],  # cat backbone P3\r\n",
      "   [-1, 3, C3, [256, False]],  # 17 (P3/8-small)\r\n",
      "\r\n",
      "   [-1, 1, Conv, [256, 3, 2]],\r\n",
      "   [[-1, 14], 1, Concat, [1]],  # cat head P4\r\n",
      "   [-1, 3, C3, [512, False]],  # 20 (P4/16-medium)\r\n",
      "\r\n",
      "   [-1, 1, Conv, [512, 3, 2]],\r\n",
      "   [[-1, 10], 1, Concat, [1]],  # cat head P5\r\n",
      "   [-1, 3, C3, [1024, False]],  # 23 (P5/32-large)\r\n",
      "\r\n",
      "   [[17, 20, 23], 1, Detect, [nc, anchors]],  # Detect(P3, P4, P5)\r\n",
      "  ]\r\n"
     ]
    }
   ],
   "source": [
    "%cd Task63_YOLA\n",
    "%cd yolov5\n",
    "%cat models/yolov5s.yaml"
   ]
  },
  {
   "cell_type": "code",
   "execution_count": null,
   "metadata": {
    "colab": {
     "base_uri": "https://localhost:8080/"
    },
    "id": "Ftt0eO0YOgdH",
    "outputId": "a3a5f998-1847-451c-9ef0-a83738614404",
    "scrolled": true
   },
   "outputs": [],
   "source": [
    "%cd /Users/pavelevayun/PycharmProjects/Project_DA_ML/Task63_YOLA/yolov5/\n",
    "path = os.getcwd()\n",
    "path"
   ]
  },
  {
   "cell_type": "markdown",
   "metadata": {
    "id": "8nJpLDwMZ_Xp"
   },
   "source": [
    "Запустим обучение"
   ]
  },
  {
   "cell_type": "code",
   "execution_count": 11,
   "metadata": {},
   "outputs": [
    {
     "name": "stdout",
     "output_type": "stream",
     "text": [
      "/Users/pavelevayun/PycharmProjects/Project_DA_ML/Task63_YOLA\n",
      "\u001b[34m\u001b[1mtrain: \u001b[0mweights=, cfg=yolov5/models/yolov5s.yaml, data=cat_open_image/data.yaml, hyp=yolov5/data/hyps/hyp.scratch-low.yaml, epochs=10, batch_size=16, imgsz=416, rect=False, resume=False, nosave=False, noval=False, noautoanchor=False, noplots=False, evolve=None, bucket=, cache=ram, image_weights=False, device=, multi_scale=False, single_cls=False, optimizer=SGD, sync_bn=False, workers=8, project=yolov5/runs/train, name=yolov5s_results, exist_ok=False, quad=False, cos_lr=False, label_smoothing=0.0, patience=100, freeze=[0], save_period=-1, seed=0, local_rank=-1, entity=None, upload_dataset=False, bbox_interval=-1, artifact_alias=latest\n",
      "\u001b[34m\u001b[1mgithub: \u001b[0m⚠️ YOLOv5 is out of date by 611 commits. Use `git pull` or `git clone https://github.com/ultralytics/yolov5` to update.\n",
      "YOLOv5 🚀 v6.1-306-gfbe67e4 Python-3.10.10 torch-2.1.0 CPU\n",
      "\n",
      "\u001b[34m\u001b[1mhyperparameters: \u001b[0mlr0=0.01, lrf=0.01, momentum=0.937, weight_decay=0.0005, warmup_epochs=3.0, warmup_momentum=0.8, warmup_bias_lr=0.1, box=0.05, cls=0.5, cls_pw=1.0, obj=1.0, obj_pw=1.0, iou_t=0.2, anchor_t=4.0, fl_gamma=0.0, hsv_h=0.015, hsv_s=0.7, hsv_v=0.4, degrees=0.0, translate=0.1, scale=0.5, shear=0.0, perspective=0.0, flipud=0.0, fliplr=0.5, mosaic=1.0, mixup=0.0, copy_paste=0.0\n",
      "\u001b[34m\u001b[1mWeights & Biases: \u001b[0mrun 'pip install wandb' to automatically track and visualize YOLOv5 🚀 runs (RECOMMENDED)\n",
      "\u001b[34m\u001b[1mTensorBoard: \u001b[0mStart with 'tensorboard --logdir yolov5/runs/train', view at http://localhost:6006/\n",
      "Overriding model.yaml nc=80 with nc=2\n",
      "\n",
      "                 from  n    params  module                                  arguments                     \n",
      "  0                -1  1      3520  models.common.Conv                      [3, 32, 6, 2, 2]              \n",
      "  1                -1  1     18560  models.common.Conv                      [32, 64, 3, 2]                \n",
      "  2                -1  1     18816  models.common.C3                        [64, 64, 1]                   \n",
      "  3                -1  1     73984  models.common.Conv                      [64, 128, 3, 2]               \n",
      "  4                -1  2    115712  models.common.C3                        [128, 128, 2]                 \n",
      "  5                -1  1    295424  models.common.Conv                      [128, 256, 3, 2]              \n",
      "  6                -1  3    625152  models.common.C3                        [256, 256, 3]                 \n",
      "  7                -1  1   1180672  models.common.Conv                      [256, 512, 3, 2]              \n",
      "  8                -1  1   1182720  models.common.C3                        [512, 512, 1]                 \n",
      "  9                -1  1    656896  models.common.SPPF                      [512, 512, 5]                 \n",
      " 10                -1  1    131584  models.common.Conv                      [512, 256, 1, 1]              \n",
      " 11                -1  1         0  torch.nn.modules.upsampling.Upsample    [None, 2, 'nearest']          \n",
      " 12           [-1, 6]  1         0  models.common.Concat                    [1]                           \n",
      " 13                -1  1    361984  models.common.C3                        [512, 256, 1, False]          \n",
      " 14                -1  1     33024  models.common.Conv                      [256, 128, 1, 1]              \n",
      " 15                -1  1         0  torch.nn.modules.upsampling.Upsample    [None, 2, 'nearest']          \n",
      " 16           [-1, 4]  1         0  models.common.Concat                    [1]                           \n",
      " 17                -1  1     90880  models.common.C3                        [256, 128, 1, False]          \n",
      " 18                -1  1    147712  models.common.Conv                      [128, 128, 3, 2]              \n",
      " 19          [-1, 14]  1         0  models.common.Concat                    [1]                           \n",
      " 20                -1  1    296448  models.common.C3                        [256, 256, 1, False]          \n",
      " 21                -1  1    590336  models.common.Conv                      [256, 256, 3, 2]              \n",
      " 22          [-1, 10]  1         0  models.common.Concat                    [1]                           \n",
      " 23                -1  1   1182720  models.common.C3                        [512, 512, 1, False]          \n",
      " 24      [17, 20, 23]  1     18879  models.yolo.Detect                      [2, [[10, 13, 16, 30, 33, 23], [30, 61, 62, 45, 59, 119], [116, 90, 156, 198, 373, 326]], [128, 256, 512]]\n",
      "YOLOv5s summary: 270 layers, 7025023 parameters, 7025023 gradients, 16.0 GFLOPs\n",
      "\n",
      "Scaled weight_decay = 0.0005\n",
      "\u001b[34m\u001b[1moptimizer:\u001b[0m SGD with parameter groups 57 weight (no decay), 60 weight, 60 bias\n",
      "\u001b[34m\u001b[1mtrain: \u001b[0mScanning '/Users/pavelevayun/PycharmProjects/Project_DA_ML/Task63_YOLA/yo\u001b[0m\n",
      "\u001b[34m\u001b[1mtrain: \u001b[0mCaching images (1.0GB ram): 100%|██████████| 2576/2576 [00:00<00:00, 2865\u001b[0m\n",
      "\u001b[34m\u001b[1mval: \u001b[0mScanning '/Users/pavelevayun/PycharmProjects/Project_DA_ML/Task63_YOLA/yolo\u001b[0m\n",
      "\u001b[34m\u001b[1mval: \u001b[0mNew cache created: /Users/pavelevayun/PycharmProjects/Project_DA_ML/Task63_YOLA/yolov5/../cat_open_image/valid/labels.cache\n",
      "\u001b[34m\u001b[1mval: \u001b[0mCaching images (0.3GB ram): 100%|██████████| 736/736 [00:00<00:00, 1063.93i\u001b[0m\n",
      "Plotting labels to yolov5/runs/train/yolov5s_results12/labels.jpg... \n",
      "/Library/Frameworks/Python.framework/Versions/3.10/lib/python3.10/site-packages/seaborn/axisgrid.py:118: UserWarning: The figure layout has changed to tight\n",
      "  self._figure.tight_layout(*args, **kwargs)\n",
      "\n",
      "\u001b[34m\u001b[1mAutoAnchor: \u001b[0m4.97 anchors/target, 1.000 Best Possible Recall (BPR). Current anchors are a good fit to dataset ✅\n",
      "Image sizes 416 train, 416 val\n",
      "Using 8 dataloader workers\n",
      "Logging results to \u001b[1myolov5/runs/train/yolov5s_results12\u001b[0m\n",
      "Starting training for 10 epochs...\n",
      "\n",
      "     Epoch   gpu_mem       box       obj       cls    labels  img_size\n",
      "       0/9        0G    0.1075   0.01867   0.02767        29       416:   1%|   Exception in thread Thread-26 (plot_images):\n",
      "Traceback (most recent call last):\n",
      "  File \"/Library/Frameworks/Python.framework/Versions/3.10/lib/python3.10/threading.py\", line 1016, in _bootstrap_inner\n",
      "    self.run()\n",
      "  File \"/Library/Frameworks/Python.framework/Versions/3.10/lib/python3.10/threading.py\", line 953, in run\n",
      "    self._target(*self._args, **self._kwargs)\n",
      "  File \"/Users/pavelevayun/PycharmProjects/Project_DA_ML/Task63_YOLA/yolov5/utils/plots.py\", line 223, in plot_images\n",
      "    annotator.text((x + 5, y + 5 + h), text=Path(paths[i]).name[:40], txt_color=(220, 220, 220))  # filenames\n",
      "  File \"/Users/pavelevayun/PycharmProjects/Project_DA_ML/Task63_YOLA/yolov5/utils/plots.py\", line 120, in text\n",
      "    w, h = self.font.getsize(text)  # text width, height\n",
      "AttributeError: 'FreeTypeFont' object has no attribute 'getsize'\n",
      "       0/9        0G     0.108   0.01919   0.02817        34       416:   1%|   Exception in thread Thread-27 (plot_images):\n",
      "Traceback (most recent call last):\n",
      "  File \"/Library/Frameworks/Python.framework/Versions/3.10/lib/python3.10/threading.py\", line 1016, in _bootstrap_inner\n",
      "    self.run()\n",
      "  File \"/Library/Frameworks/Python.framework/Versions/3.10/lib/python3.10/threading.py\", line 953, in run\n",
      "    self._target(*self._args, **self._kwargs)\n",
      "  File \"/Users/pavelevayun/PycharmProjects/Project_DA_ML/Task63_YOLA/yolov5/utils/plots.py\", line 223, in plot_images\n",
      "    annotator.text((x + 5, y + 5 + h), text=Path(paths[i]).name[:40], txt_color=(220, 220, 220))  # filenames\n",
      "  File \"/Users/pavelevayun/PycharmProjects/Project_DA_ML/Task63_YOLA/yolov5/utils/plots.py\", line 120, in text\n",
      "    w, h = self.font.getsize(text)  # text width, height\n",
      "AttributeError: 'FreeTypeFont' object has no attribute 'getsize'\n",
      "       0/9        0G    0.1085   0.02016   0.02823        39       416:   2%|▏  Exception in thread Thread-28 (plot_images):\n",
      "Traceback (most recent call last):\n",
      "  File \"/Library/Frameworks/Python.framework/Versions/3.10/lib/python3.10/threading.py\", line 1016, in _bootstrap_inner\n",
      "    self.run()\n",
      "  File \"/Library/Frameworks/Python.framework/Versions/3.10/lib/python3.10/threading.py\", line 953, in run\n",
      "    self._target(*self._args, **self._kwargs)\n",
      "  File \"/Users/pavelevayun/PycharmProjects/Project_DA_ML/Task63_YOLA/yolov5/utils/plots.py\", line 223, in plot_images\n",
      "    annotator.text((x + 5, y + 5 + h), text=Path(paths[i]).name[:40], txt_color=(220, 220, 220))  # filenames\n",
      "  File \"/Users/pavelevayun/PycharmProjects/Project_DA_ML/Task63_YOLA/yolov5/utils/plots.py\", line 120, in text\n",
      "    w, h = self.font.getsize(text)  # text width, height\n",
      "AttributeError: 'FreeTypeFont' object has no attribute 'getsize'\n"
     ]
    },
    {
     "name": "stdout",
     "output_type": "stream",
     "text": [
      "       0/9        0G   0.08407    0.0244   0.02584        36       416: 100%|███\n",
      "               Class     Images     Labels          P          R     mAP@.5 mAP@\n",
      "                 all        736        738    0.00152      0.456    0.00127   0.000334\n",
      "\n",
      "     Epoch   gpu_mem       box       obj       cls    labels  img_size\n",
      "       1/9        0G   0.07767   0.02519   0.02396        37       416: 100%|███\n",
      "               Class     Images     Labels          P          R     mAP@.5 mAP@\n",
      "                 all        736        738    0.00175      0.474    0.00205   0.000536\n",
      "\n",
      "     Epoch   gpu_mem       box       obj       cls    labels  img_size\n",
      "       2/9        0G   0.07501    0.0258   0.02357        39       416: 100%|███\n",
      "               Class     Images     Labels          P          R     mAP@.5 mAP@\n",
      "                 all        736        738    0.00235      0.708     0.0028   0.000813\n",
      "\n",
      "     Epoch   gpu_mem       box       obj       cls    labels  img_size\n",
      "       3/9        0G   0.07048   0.02696   0.02364        36       416: 100%|███\n",
      "               Class     Images     Labels          P          R     mAP@.5 mAP@\n",
      "                 all        736        738    0.00221       0.67    0.00521    0.00135\n",
      "\n",
      "     Epoch   gpu_mem       box       obj       cls    labels  img_size\n",
      "       4/9        0G   0.06648   0.02637   0.02287        34       416: 100%|███\n",
      "               Class     Images     Labels          P          R     mAP@.5 mAP@\n",
      "                 all        736        738      0.513      0.195      0.018    0.00463\n",
      "\n",
      "     Epoch   gpu_mem       box       obj       cls    labels  img_size\n",
      "       5/9        0G   0.06192   0.02558   0.02305        39       416: 100%|███\n",
      "               Class     Images     Labels          P          R     mAP@.5 mAP@\n",
      "                 all        736        738      0.584      0.111     0.0759     0.0219\n",
      "\n",
      "     Epoch   gpu_mem       box       obj       cls    labels  img_size\n",
      "       6/9        0G   0.05728   0.02439   0.02264        30       416: 100%|███\n",
      "               Class     Images     Labels          P          R     mAP@.5 mAP@\n",
      "                 all        736        738      0.226      0.423      0.173     0.0541\n",
      "\n",
      "     Epoch   gpu_mem       box       obj       cls    labels  img_size\n",
      "       7/9        0G   0.05273   0.02261    0.0218        30       416: 100%|███\n",
      "               Class     Images     Labels          P          R     mAP@.5 mAP@\n",
      "                 all        736        738       0.35       0.44       0.34      0.131\n",
      "\n",
      "     Epoch   gpu_mem       box       obj       cls    labels  img_size\n",
      "       8/9        0G   0.05023   0.02145   0.02022        37       416: 100%|███\n",
      "               Class     Images     Labels          P          R     mAP@.5 mAP@\n",
      "                 all        736        738      0.371      0.386      0.307      0.106\n",
      "\n",
      "     Epoch   gpu_mem       box       obj       cls    labels  img_size\n",
      "       9/9        0G   0.04777   0.02111   0.01726        38       416: 100%|███\n",
      "               Class     Images     Labels          P          R     mAP@.5 mAP@\n",
      "                 all        736        738      0.564      0.522      0.561      0.227\n",
      "\n",
      "10 epochs completed in 13.630 hours.\n",
      "Optimizer stripped from yolov5/runs/train/yolov5s_results12/weights/last.pt, 14.3MB\n",
      "Optimizer stripped from yolov5/runs/train/yolov5s_results12/weights/best.pt, 14.3MB\n",
      "\n",
      "Validating yolov5/runs/train/yolov5s_results12/weights/best.pt...\n",
      "Fusing layers... \n",
      "YOLOv5s summary: 213 layers, 7015519 parameters, 0 gradients, 15.8 GFLOPs\n",
      "               Class     Images     Labels          P          R     mAP@.5 mAP@Exception in thread Thread-29 (plot_images):\n",
      "Traceback (most recent call last):\n",
      "  File \"/Library/Frameworks/Python.framework/Versions/3.10/lib/python3.10/threading.py\", line 1016, in _bootstrap_inner\n",
      "    self.run()\n",
      "  File \"/Library/Frameworks/Python.framework/Versions/3.10/lib/python3.10/threading.py\", line 953, in run\n",
      "    self._target(*self._args, **self._kwargs)\n",
      "  File \"/Users/pavelevayun/PycharmProjects/Project_DA_ML/Task63_YOLA/yolov5/utils/plots.py\", line 223, in plot_images\n",
      "    annotator.text((x + 5, y + 5 + h), text=Path(paths[i]).name[:40], txt_color=(220, 220, 220))  # filenames\n",
      "  File \"/Users/pavelevayun/PycharmProjects/Project_DA_ML/Task63_YOLA/yolov5/utils/plots.py\", line 120, in text\n",
      "    w, h = self.font.getsize(text)  # text width, height\n",
      "AttributeError: 'FreeTypeFont' object has no attribute 'getsize'\n",
      "Exception in thread Thread-30 (plot_images):\n",
      "Traceback (most recent call last):\n",
      "  File \"/Library/Frameworks/Python.framework/Versions/3.10/lib/python3.10/threading.py\", line 1016, in _bootstrap_inner\n",
      "    self.run()\n",
      "  File \"/Library/Frameworks/Python.framework/Versions/3.10/lib/python3.10/threading.py\", line 953, in run\n",
      "    self._target(*self._args, **self._kwargs)\n",
      "  File \"/Users/pavelevayun/PycharmProjects/Project_DA_ML/Task63_YOLA/yolov5/utils/plots.py\", line 223, in plot_images\n",
      "    annotator.text((x + 5, y + 5 + h), text=Path(paths[i]).name[:40], txt_color=(220, 220, 220))  # filenames\n",
      "  File \"/Users/pavelevayun/PycharmProjects/Project_DA_ML/Task63_YOLA/yolov5/utils/plots.py\", line 120, in text\n",
      "    w, h = self.font.getsize(text)  # text width, height\n",
      "AttributeError: 'FreeTypeFont' object has no attribute 'getsize'\n",
      "               Class     Images     Labels          P          R     mAP@.5 mAP@Exception in thread Thread-31 (plot_images):\n",
      "Traceback (most recent call last):\n",
      "  File \"/Library/Frameworks/Python.framework/Versions/3.10/lib/python3.10/threading.py\", line 1016, in _bootstrap_inner\n",
      "    self.run()\n",
      "  File \"/Library/Frameworks/Python.framework/Versions/3.10/lib/python3.10/threading.py\", line 953, in run\n",
      "    self._target(*self._args, **self._kwargs)\n",
      "  File \"/Users/pavelevayun/PycharmProjects/Project_DA_ML/Task63_YOLA/yolov5/utils/plots.py\", line 223, in plot_images\n",
      "    annotator.text((x + 5, y + 5 + h), text=Path(paths[i]).name[:40], txt_color=(220, 220, 220))  # filenames\n",
      "  File \"/Users/pavelevayun/PycharmProjects/Project_DA_ML/Task63_YOLA/yolov5/utils/plots.py\", line 120, in text\n",
      "    w, h = self.font.getsize(text)  # text width, height\n",
      "AttributeError: 'FreeTypeFont' object has no attribute 'getsize'\n",
      "Exception in thread Thread-32 (plot_images):\n",
      "Traceback (most recent call last):\n",
      "  File \"/Library/Frameworks/Python.framework/Versions/3.10/lib/python3.10/threading.py\", line 1016, in _bootstrap_inner\n",
      "    self.run()\n",
      "  File \"/Library/Frameworks/Python.framework/Versions/3.10/lib/python3.10/threading.py\", line 953, in run\n",
      "    self._target(*self._args, **self._kwargs)\n",
      "  File \"/Users/pavelevayun/PycharmProjects/Project_DA_ML/Task63_YOLA/yolov5/utils/plots.py\", line 223, in plot_images\n",
      "    annotator.text((x + 5, y + 5 + h), text=Path(paths[i]).name[:40], txt_color=(220, 220, 220))  # filenames\n",
      "  File \"/Users/pavelevayun/PycharmProjects/Project_DA_ML/Task63_YOLA/yolov5/utils/plots.py\", line 120, in text\n",
      "    w, h = self.font.getsize(text)  # text width, height\n",
      "AttributeError: 'FreeTypeFont' object has no attribute 'getsize'\n",
      "               Class     Images     Labels          P          R     mAP@.5 mAP@Exception in thread Thread-33 (plot_images):\n",
      "Traceback (most recent call last):\n",
      "  File \"/Library/Frameworks/Python.framework/Versions/3.10/lib/python3.10/threading.py\", line 1016, in _bootstrap_inner\n",
      "    self.run()\n",
      "  File \"/Library/Frameworks/Python.framework/Versions/3.10/lib/python3.10/threading.py\", line 953, in run\n",
      "    self._target(*self._args, **self._kwargs)\n",
      "  File \"/Users/pavelevayun/PycharmProjects/Project_DA_ML/Task63_YOLA/yolov5/utils/plots.py\", line 223, in plot_images\n",
      "    annotator.text((x + 5, y + 5 + h), text=Path(paths[i]).name[:40], txt_color=(220, 220, 220))  # filenames\n",
      "  File \"/Users/pavelevayun/PycharmProjects/Project_DA_ML/Task63_YOLA/yolov5/utils/plots.py\", line 120, in text\n",
      "    w, h = self.font.getsize(text)  # text width, height\n",
      "AttributeError: 'FreeTypeFont' object has no attribute 'getsize'\n",
      "Exception in thread Thread-34 (plot_images):\n",
      "Traceback (most recent call last):\n",
      "  File \"/Library/Frameworks/Python.framework/Versions/3.10/lib/python3.10/threading.py\", line 1016, in _bootstrap_inner\n",
      "    self.run()\n",
      "  File \"/Library/Frameworks/Python.framework/Versions/3.10/lib/python3.10/threading.py\", line 953, in run\n",
      "    self._target(*self._args, **self._kwargs)\n",
      "  File \"/Users/pavelevayun/PycharmProjects/Project_DA_ML/Task63_YOLA/yolov5/utils/plots.py\", line 223, in plot_images\n",
      "    annotator.text((x + 5, y + 5 + h), text=Path(paths[i]).name[:40], txt_color=(220, 220, 220))  # filenames\n",
      "  File \"/Users/pavelevayun/PycharmProjects/Project_DA_ML/Task63_YOLA/yolov5/utils/plots.py\", line 120, in text\n",
      "    w, h = self.font.getsize(text)  # text width, height\n",
      "AttributeError: 'FreeTypeFont' object has no attribute 'getsize'\n"
     ]
    },
    {
     "name": "stdout",
     "output_type": "stream",
     "text": [
      "               Class     Images     Labels          P          R     mAP@.5 mAP@\n",
      "                 all        736        738      0.567      0.522      0.561      0.227\n",
      "                 cat        736        251      0.665      0.386      0.533      0.227\n",
      "                 dog        736        487      0.468      0.657       0.59      0.227\n",
      "Results saved to \u001b[1myolov5/runs/train/yolov5s_results12\u001b[0m\n"
     ]
    }
   ],
   "source": [
    "#  train yolov5s on custom data for 10 epochs\n",
    "# time its performance\n",
    "# %%time\n",
    "%cd /Users/pavelevayun/PycharmProjects/Project_DA_ML/Task63_YOLA\n",
    "!python3 yolov5/train.py --img 416 --batch 16 --epochs 10 --data cat_open_image/data.yaml --cfg yolov5/models/yolov5s.yaml --weights '' --name yolov5s_results  --cache"
   ]
  },
  {
   "cell_type": "markdown",
   "metadata": {
    "id": "07BHoaQYaBHC"
   },
   "source": [
    "Запустим скрипт обработки изображения"
   ]
  },
  {
   "cell_type": "code",
   "execution_count": 35,
   "metadata": {},
   "outputs": [],
   "source": [
    "img = 'american_bulldog_128_jpg.rf.817f8f5abd38a48c403db7c73a9d0060.jpg'"
   ]
  },
  {
   "cell_type": "code",
   "execution_count": 33,
   "metadata": {
    "colab": {
     "base_uri": "https://localhost:8080/"
    },
    "id": "bgtdvFmhXQyJ",
    "outputId": "758f951d-e1f1-454d-f838-b0fd611fb307"
   },
   "outputs": [
    {
     "name": "stdout",
     "output_type": "stream",
     "text": [
      "\u001b[34m\u001b[1mdetect: \u001b[0mweights=['yolov5/runs/train/yolov5s_results12/weights/best.pt'], source=/Users/pavelevayun/PycharmProjects/Project_DA_ML/Task63_YOLA/cat_open_image/test/images/american_bulldog_128_jpg.rf.817f8f5abd38a48c403db7c73a9d0060.jpg, data=yolov5/data/coco128.yaml, imgsz=[640, 640], conf_thres=0.25, iou_thres=0.45, max_det=1000, device=, view_img=False, save_txt=False, save_conf=False, save_crop=False, nosave=False, classes=None, agnostic_nms=False, augment=False, visualize=False, update=False, project=yolov5/runs/detect, name=exp, exist_ok=False, line_thickness=3, hide_labels=False, hide_conf=False, half=False, dnn=False\n",
      "YOLOv5 🚀 v6.1-306-gfbe67e4 Python-3.10.10 torch-2.1.0 CPU\n",
      "\n",
      "Fusing layers... \n",
      "YOLOv5s summary: 213 layers, 7015519 parameters, 0 gradients, 15.8 GFLOPs\n",
      "image 1/1 /Users/pavelevayun/PycharmProjects/Project_DA_ML/Task63_YOLA/cat_open_image/test/images/american_bulldog_128_jpg.rf.817f8f5abd38a48c403db7c73a9d0060.jpg: 384x640 1 dog, Done. (0.088s)\n",
      "Speed: 0.9ms pre-process, 87.8ms inference, 7.8ms NMS per image at shape (1, 3, 640, 640)\n",
      "Results saved to \u001b[1myolov5/runs/detect/exp5\u001b[0m\n"
     ]
    }
   ],
   "source": [
    "!python3 yolov5/detect.py --weights yolov5/runs/train/yolov5s_results12/weights/best.pt --source /Users/pavelevayun/PycharmProjects/Project_DA_ML/Task63_YOLA/cat_open_image/test/images/american_bulldog_128_jpg.rf.817f8f5abd38a48c403db7c73a9d0060.jpg\n"
   ]
  },
  {
   "cell_type": "code",
   "execution_count": 34,
   "metadata": {},
   "outputs": [
    {
     "data": {
      "image/jpeg": "[encoded data removed]",
      "text/plain": [
       "<IPython.core.display.Image object>"
      ]
     },
     "execution_count": 34,
     "metadata": {
      "image/jpeg": {
       "height": 240,
       "width": 320
      }
     },
     "output_type": "execute_result"
    }
   ],
   "source": [
    "from IPython.display import Image\n",
    "Image (\"/Users/pavelevayun/PycharmProjects/Project_DA_ML/Task63_YOLA/yolov5/runs/detect/exp5/american_bulldog_128_jpg.rf.817f8f5abd38a48c403db7c73a9d0060.jpg\", width=320, height=240)"
   ]
  }
 ],
 "metadata": {
  "accelerator": "GPU",
  "colab": {
   "gpuType": "T4",
   "provenance": []
  },
  "kernelspec": {
   "display_name": "Python 3 (ipykernel)",
   "language": "python",
   "name": "python3"
  },
  "language_info": {
   "codemirror_mode": {
    "name": "ipython",
    "version": 3
   },
   "file_extension": ".py",
   "mimetype": "text/x-python",
   "name": "python",
   "nbconvert_exporter": "python",
   "pygments_lexer": "ipython3",
   "version": "3.10.10"
  }
 },
 "nbformat": 4,
 "nbformat_minor": 1
}
