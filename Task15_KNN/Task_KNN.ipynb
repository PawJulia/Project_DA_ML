{
 "cells": [
  {
   "cell_type": "code",
   "execution_count": null,
   "id": "2f55ab01",
   "metadata": {},
   "outputs": [],
   "source": [
    "import random\n",
    "import numpy as np\n",
    "import pandas as pd\n",
    "import pylab as pl\n",
    "import matplotlib.pyplot as plt\n",
    "from matplotlib.colors import ListedColormap\n",
    "from sklearn.neighbors import KNeighborsClassifier\n",
    "from sklearn import preprocessing\n",
    "from sklearn.model_selection import train_test_split\n",
    "from sklearn.preprocessing import StandardScaler\n",
    "from sklearn.metrics import confusion_matrix\n",
    "from sklearn.metrics import f1_score\n",
    "from sklearn.metrics import accuracy_score"
   ]
  },
  {
   "cell_type": "code",
   "execution_count": null,
   "id": "506a8477",
   "metadata": {},
   "outputs": [],
   "source": [
    "dataFr = pd.read_csv('diabetes.csv')\n",
    "print(dataFr[0:5])"
   ]
  },
  {
   "cell_type": "markdown",
   "id": "61a67acb",
   "metadata": {},
   "source": [
    "Проведите EDA(Exploratory Data Analysis), то есть для каждой переменной\n",
    "посчитайте :\n",
    "a) Долю пропусков\n",
    "b) Максимальное и минимальное значение\n",
    "c) Среднее значение\n",
    "d) Медиану\n",
    "e) Дисперсию\n",
    "f) Квантиль 0.1 и 0.9\n",
    "g) Квартиль 1 и 3"
   ]
  },
  {
   "cell_type": "code",
   "execution_count": null,
   "id": "212ad9ee",
   "metadata": {},
   "outputs": [],
   "source": [
    "def null(data):\n",
    "    return  data.isnull().sum()\n",
    "def quantile_10(data):\n",
    "    return  data.quantile(0.1)\n",
    "def quantile_25(data):\n",
    "    return  data.quantile(0.25)\n",
    "def quantile_75(data):\n",
    "    return  data.quantile(0.75)\n",
    "def quantile_90(data):\n",
    "    return  data.quantile(0.9)\n",
    "def print_null(param):\n",
    "    print(str(param)+ ':', dataFr[dataFr.param==0].shape[0])\n",
    "\n",
    "\n",
    "func = [null, 'min', 'max', 'mean', 'median', quantile_10, quantile_90, quantile_25, quantile_75]\n",
    "eda_data = dataFr.agg(func)\n",
    "print(eda_data.to_string())"
   ]
  },
  {
   "cell_type": "markdown",
   "id": "56521209",
   "metadata": {},
   "source": [
    "Замена нулевых значений на данных"
   ]
  },
  {
   "cell_type": "code",
   "execution_count": null,
   "id": "ac6f6a73",
   "metadata": {},
   "outputs": [],
   "source": [
    "columns= ['BloodPressure', 'Glucose', 'SkinThickness', 'Insulin', 'BMI']\n",
    "\n",
    "for col in columns:\n",
    "    dataFr[col] = dataFr[col].replace(0, np.NaN)\n",
    "    replace_value = int(dataFr[column].mean(skipna=True))\n",
    "    dataFr[col] = dataFr[col].replace(np.NaN, replace_value)\n",
    "\n",
    "eda_new = dataFr.agg(func)\n",
    "print(eda_new.to_string())"
   ]
  },
  {
   "cell_type": "markdown",
   "id": "409674b7",
   "metadata": {},
   "source": [
    "Столбец “outcome” принимает значения 0 (заболевание отсутствует) или 1(имеется диабет) и является целевой переменной. Для целевой переменной outcome посчитайте долю 1."
   ]
  },
  {
   "cell_type": "code",
   "execution_count": null,
   "id": "5a2d145a",
   "metadata": {},
   "outputs": [],
   "source": [
    "disease_count = dataFr.loc[:,'Outcome'].value_counts()\n",
    "count = disease_count[1]\n",
    "disease_percent = count / len(dataFr)\n",
    "print(f'Percent {disease_percent*100:.1f} %')"
   ]
  },
  {
   "cell_type": "markdown",
   "id": "55095134",
   "metadata": {},
   "source": [
    "Постройте минимум 2 информативных графика, которые будут полезны для анализа"
   ]
  },
  {
   "cell_type": "code",
   "execution_count": null,
   "id": "2ac5894a",
   "metadata": {},
   "outputs": [],
   "source": [
    "def CorrelationMatrix(df):\n",
    "    df = df.dropna(axis='columns')\n",
    "    df = df[[col for col in df if df[col].nunique() > 1]]\n",
    "    corr = df.corr()\n",
    "    plt.figure(num=None, figsize=(8, 8), dpi=70, edgecolor='g')\n",
    "    corrMat = plt.matshow(corr, fignum = 1)\n",
    "    plt.xticks(range(len(corr.columns)), corr.columns, rotation=90)\n",
    "    plt.yticks(range(len(corr.columns)), corr.columns)\n",
    "    plt.colorbar(corrMat)\n",
    "    plt.title(f'Матрица корреляции', fontsize=15)\n",
    "    plt.show()\n",
    "#      cmap='RdYlGn'"
   ]
  },
  {
   "cell_type": "code",
   "execution_count": null,
   "id": "c539e991",
   "metadata": {},
   "outputs": [],
   "source": [
    "def plotScatterMatrix(df):\n",
    "    df = df.select_dtypes(include =[np.number])\n",
    "    df = df.dropna(axis='columns')\n",
    "    df = df[[col for col in df if df[col].nunique() > 1]] \n",
    "    columnNames = list(df)\n",
    "    if len(columnNames) > 10:\n",
    "        columnNames = columnNames[:10]\n",
    "    df = df[columnNames]\n",
    "    ax = pd.plotting.scatter_matrix(df, alpha=0.75, figsize=[20, 20], diagonal='kde')\n",
    "    corrs = df.corr().values\n",
    "    for i, j in zip(*plt.np.triu_indices_from(ax, k = 1)):\n",
    "        ax[i, j].annotate('Corr. coef = %.3f' % corrs[i, j], (0.5, 0.9), xycoords='axes fraction', ha='center', va='center', size=10)\n",
    "    plt.suptitle('Scatter and Density Plot')\n",
    "    plt.show()"
   ]
  },
  {
   "cell_type": "code",
   "execution_count": null,
   "id": "769d8a6d",
   "metadata": {},
   "outputs": [],
   "source": [
    "CorrelationMatrix(dataFr.drop('Outcome',axis=1))\n",
    "plotScatterMatrix(dataFr.drop('Outcome',axis=1))"
   ]
  },
  {
   "cell_type": "code",
   "execution_count": null,
   "id": "512dfabf",
   "metadata": {},
   "outputs": [],
   "source": [
    "x=dataFr.iloc[:, 0:8]\n",
    "y=dataFr.iloc[:, 8]"
   ]
  },
  {
   "cell_type": "code",
   "execution_count": null,
   "id": "cb724cf4",
   "metadata": {},
   "outputs": [],
   "source": [
    "x_train, x_test, y_train, y_test = train_test_split(x, y, test_size=.2)\n",
    "print(len(x_train),len(x_test),len(y_train),len(y_test))"
   ]
  },
  {
   "cell_type": "code",
   "execution_count": null,
   "id": "14037802",
   "metadata": {},
   "outputs": [],
   "source": [
    "sc = StandardScaler()\n",
    "x_train=sc.fit_transform(x_train)\n",
    "x_test=sc.fit_transform(x_test)"
   ]
  },
  {
   "cell_type": "code",
   "execution_count": null,
   "id": "cebf8241",
   "metadata": {},
   "outputs": [],
   "source": [
    "model=KNeighborsClassifier()"
   ]
  },
  {
   "cell_type": "code",
   "execution_count": null,
   "id": "8784d16d",
   "metadata": {},
   "outputs": [],
   "source": [
    "model.fit(x_train, y_train)"
   ]
  },
  {
   "cell_type": "code",
   "execution_count": null,
   "id": "7d53b582",
   "metadata": {},
   "outputs": [],
   "source": [
    "print(model.score(x_test, y_test))"
   ]
  },
  {
   "cell_type": "code",
   "execution_count": null,
   "id": "9c081a5b",
   "metadata": {},
   "outputs": [],
   "source": [
    "y_pred= model.predict(x_test)\n",
    "print(y_pred)"
   ]
  },
  {
   "cell_type": "code",
   "execution_count": null,
   "id": "13437b1e",
   "metadata": {},
   "outputs": [],
   "source": [
    "compare = pd.DataFrame(columns=['y_test', 'y_pred'])\n",
    "print(compare)\n",
    "for pair in list(zip(y_test, y_pred)):\n",
    "  #print(pair)\n",
    "  compare.loc[len(compare.index)] = [pair[0], pair[1]]\n",
    "  #compare = pd.concat([compare, pd.Series()\n",
    "print(compare)"
   ]
  }
 ],
 "metadata": {
  "kernelspec": {
   "display_name": "Python 3 (ipykernel)",
   "language": "python",
   "name": "python3"
  },
  "language_info": {
   "codemirror_mode": {
    "name": "ipython",
    "version": 3
   },
   "file_extension": ".py",
   "mimetype": "text/x-python",
   "name": "python",
   "nbconvert_exporter": "python",
   "pygments_lexer": "ipython3",
   "version": "3.10.10"
  }
 },
 "nbformat": 4,
 "nbformat_minor": 5
}
